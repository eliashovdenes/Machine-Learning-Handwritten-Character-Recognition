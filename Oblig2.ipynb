{
 "cells": [
  {
   "cell_type": "code",
   "execution_count": 6,
   "metadata": {},
   "outputs": [],
   "source": [
    "import numpy as np\n",
    "import pandas as pd\n",
    "from sklearn.model_selection import train_test_split, GridSearchCV, cross_val_score\n",
    "from sklearn.metrics import classification_report, confusion_matrix, accuracy_score\n",
    "import matplotlib.pyplot as plt"
   ]
  },
  {
   "cell_type": "code",
   "execution_count": 35,
   "metadata": {},
   "outputs": [
    {
     "name": "stdout",
     "output_type": "stream",
     "text": [
      "[[ 67  61  49  48  43   7   1  76   8  54  75  83  32  21  33  80  55  46\n",
      "   67  51]\n",
      " [ 41  81  11  35  29  62  73  32  19  76   1  24  76  86  74  75  76  50\n",
      "   58  84]\n",
      " [ 69  50  18  11  52  76  75  28  17  57  76  39   6   9  67  43  78  76\n",
      "   18  46]\n",
      " [ 31  10  41  75  36  64  10   6  77 194 229 150  33   4  55  86  25  12\n",
      "   46  67]\n",
      " [ 80  58   2  88  24  64   1  61 170 241 251 180  47  35  67  58  27  36\n",
      "   85  53]\n",
      " [  2  30  37  60  73  44   5 121 227 254 253 202  84   5  76  57  71  50\n",
      "   86  54]\n",
      " [ 45   0  20  81  74   2  23 173 246 255 254 242 167  22   2  24  30  58\n",
      "   86  28]\n",
      " [ 83  38  36  21   1  30 122 227 253 249 246 251 219  81  13  44  76  47\n",
      "   17  16]\n",
      " [ 15  30  85  76   8  95 219 251 245 208 200 243 243 164  45   1  25  67\n",
      "   43  73]\n",
      " [ 39  29  42   2  35 178 248 253 211 110 125 220 251 229 106  10  87  66\n",
      "    9  37]\n",
      " [ 69   8  56   7  68 218 254 251 189  84  97 200 252 250 173  51   7  40\n",
      "   38   3]\n",
      " [ 47  73  13  20 115 238 255 249 203 169 184 223 252 254 237 137  36   2\n",
      "   29  57]\n",
      " [ 66  61   6  79 197 250 255 253 247 243 242 239 234 243 250 227 156  63\n",
      "    1  38]\n",
      " [ 57  52  21 136 243 254 254 244 236 224 186 152 114 165 234 254 231 119\n",
      "    2  22]\n",
      " [ 33  27  41 171 250 248 223 140  93  79  49  32  21  51 149 213 188  85\n",
      "    1  52]\n",
      " [ 28  19  47 181 253 228 140  42   9   5   1  15  41   4  50  94  78  28\n",
      "   71  81]\n",
      " [  6  62  43 174 249 207  73   6  12  26  21  82  42  82   1   2   1  24\n",
      "   50  51]\n",
      " [ 34  41  14  75 122  95  24   2  88  73  73  62  30  59   6  53  84  76\n",
      "   39   7]\n",
      " [ 76  83  40   1   2   2   8  15  50  50  30  54  60  56  47  62  66  24\n",
      "   46  45]\n",
      " [ 70  20  15  30  58  73   2  83  26  49  10  83  34  24   5  76   2  71\n",
      "    9  64]]\n"
     ]
    }
   ],
   "source": [
    "dataset = np.load(\"dataset.npz\")\n",
    "X, y = dataset[\"X\"], dataset[\"y\"]\n",
    "# print(X[0])\n",
    "# print(y)\n",
    "\n",
    "print(X[0].reshape(20,20))"
   ]
  },
  {
   "cell_type": "code",
   "execution_count": 38,
   "metadata": {},
   "outputs": [
    {
     "data": {
      "image/png": "[encoded data removed]",
      "text/plain": [
       "<Figure size 640x480 with 1 Axes>"
      ]
     },
     "metadata": {},
     "output_type": "display_data"
    }
   ],
   "source": [
    "plt.imshow(X[0].reshape(20,20), vmin=0, vmax=255, cmap=\"gray\")\n",
    "plt.show()\n"
   ]
  }
 ],
 "metadata": {
  "kernelspec": {
   "display_name": "INF264",
   "language": "python",
   "name": "python3"
  },
  "language_info": {
   "codemirror_mode": {
    "name": "ipython",
    "version": 3
   },
   "file_extension": ".py",
   "mimetype": "text/x-python",
   "name": "python",
   "nbconvert_exporter": "python",
   "pygments_lexer": "ipython3",
   "version": "3.12.6"
  }
 },
 "nbformat": 4,
 "nbformat_minor": 2
}
